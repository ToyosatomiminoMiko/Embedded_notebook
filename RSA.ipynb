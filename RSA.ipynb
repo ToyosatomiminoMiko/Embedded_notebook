{
 "cells": [
  {
   "cell_type": "markdown",
   "metadata": {},
   "source": [
    "### RSA\n",
    "一种非对称加密算法\n",
    "\n",
    "诞生于1977年MIT\n",
    "\n",
    "提出者:\n",
    "*Ron Rivest* + *Adi Shamir* + *Leonard Adleman*\n",
    "\n",
    "#### 算法过程"
   ]
  },
  {
   "cell_type": "markdown",
   "metadata": {},
   "source": [
    "1. 两个质数: $p,q$"
   ]
  },
  {
   "cell_type": "code",
   "execution_count": 1,
   "metadata": {},
   "outputs": [],
   "source": [
    "p = 193\n",
    "q = 1130081"
   ]
  },
  {
   "cell_type": "markdown",
   "metadata": {},
   "source": [
    "2. $n=p\\times q$"
   ]
  },
  {
   "cell_type": "code",
   "execution_count": 2,
   "metadata": {},
   "outputs": [
    {
     "name": "stdout",
     "output_type": "stream",
     "text": [
      "0x0d000721\n"
     ]
    }
   ],
   "source": [
    "n = p * q\n",
    "print(f\"0x{n:08x}\")"
   ]
  },
  {
   "cell_type": "markdown",
   "metadata": {},
   "source": [
    "3. $\\varphi(n)=(p-1)(q-1)$"
   ]
  },
  {
   "cell_type": "code",
   "execution_count": 3,
   "metadata": {},
   "outputs": [
    {
     "name": "stdout",
     "output_type": "stream",
     "text": [
      "phi = 216975360\n"
     ]
    }
   ],
   "source": [
    "phi = (p-1)*(q-1)\n",
    "print(\"phi =\", phi)"
   ]
  },
  {
   "cell_type": "markdown",
   "metadata": {},
   "source": [
    "4. 公钥$e$\n",
    "\n",
    "$1<e<\\varphi(n)整数$\n",
    "\n",
    "其中$e$和$\\varphi(n)$互质(无公共因子)"
   ]
  },
  {
   "cell_type": "code",
   "execution_count": 4,
   "metadata": {},
   "outputs": [],
   "source": [
    "e = 19260817"
   ]
  },
  {
   "cell_type": "markdown",
   "metadata": {},
   "source": [
    "5. 私钥$d$\n",
    "\n",
    "$e\\cdot d \\bmod \\varphi(n) = 1$"
   ]
  },
  {
   "cell_type": "code",
   "execution_count": 5,
   "metadata": {},
   "outputs": [
    {
     "name": "stdout",
     "output_type": "stream",
     "text": [
      "True\n",
      "102982513\n"
     ]
    }
   ],
   "source": [
    "#for d in range(0, phi):\n",
    "#    if ((e * d) % phi == 1):\n",
    "#        break\n",
    "d = 102982513\n",
    "print(((e * d) % phi == 1))\n",
    "print(d)"
   ]
  },
  {
   "cell_type": "markdown",
   "metadata": {},
   "source": [
    "加密:\n",
    "$$\n",
    "m^e\\bmod n=c\n",
    "$$"
   ]
  },
  {
   "cell_type": "code",
   "execution_count": 6,
   "metadata": {},
   "outputs": [
    {
     "name": "stdout",
     "output_type": "stream",
     "text": [
      "c = 200553762\n"
     ]
    }
   ],
   "source": [
    "m = 114514 # 需要进行加密的信息\n",
    "c = pow(m, e, n)\n",
    "print(\"c =\", c)"
   ]
  },
  {
   "cell_type": "markdown",
   "metadata": {},
   "source": [
    "解密:\n",
    "$$\n",
    "c^d \\bmod n = m\n",
    "$$"
   ]
  },
  {
   "cell_type": "code",
   "execution_count": 7,
   "metadata": {},
   "outputs": [
    {
     "name": "stdout",
     "output_type": "stream",
     "text": [
      "114514\n"
     ]
    }
   ],
   "source": [
    "print(pow(c, d, n))  # 解密结果"
   ]
  },
  {
   "cell_type": "markdown",
   "metadata": {},
   "source": [
    "#### 安全性\n",
    "传播: $n,e,c$\n",
    "解密: $n,d,c$\n",
    "$$\n",
    "e\\stackrel{\\varphi(n)}{\\longrightarrow}d\n",
    "$$\n",
    "$$\n",
    "\\varphi(n)\\longrightarrow p,q\n",
    "$$\n",
    "$$\n",
    "n=pq\n",
    "$$\n",
    "1024bit质因数分解\n"
   ]
  }
 ],
 "metadata": {
  "kernelspec": {
   "display_name": "base",
   "language": "python",
   "name": "python3"
  },
  "language_info": {
   "codemirror_mode": {
    "name": "ipython",
    "version": 3
   },
   "file_extension": ".py",
   "mimetype": "text/x-python",
   "name": "python",
   "nbconvert_exporter": "python",
   "pygments_lexer": "ipython3",
   "version": "3.12.7"
  }
 },
 "nbformat": 4,
 "nbformat_minor": 2
}
